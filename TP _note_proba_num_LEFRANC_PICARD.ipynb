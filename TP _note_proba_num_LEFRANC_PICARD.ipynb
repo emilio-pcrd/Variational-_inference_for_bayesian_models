{
 "cells": [
  {
   "cell_type": "markdown",
   "id": "3f320f67",
   "metadata": {},
   "source": [
    "# TP Pobabilités Numériques - Stats Computationnelles\n",
    "## Paul LE FRANC - Emilio PICARD\n",
    "\n",
    "## Inférence variationnelle"
   ]
  },
  {
   "cell_type": "markdown",
   "id": "0a316ec9",
   "metadata": {},
   "source": [
    "## Sujet : Application d'une approche variationnelle pour un modèle de régression bayésien"
   ]
  },
  {
   "cell_type": "markdown",
   "id": "872290a8",
   "metadata": {},
   "source": [
    "#### Modèle :"
   ]
  },
  {
   "cell_type": "markdown",
   "id": "ccf30b52",
   "metadata": {},
   "source": [
    "On considère un modèle de régression linéaire, de la forme $y = \\beta^T x$, $y = (y_i)_{i=1,...,n} \\in \\mathbb{R}^n$, $x = (x_i)_{i=1,...,n} \\in \\mathbb{R}^n$x$\\mathbb{R}^D,  x_i \\in \\mathbb{R}^D$.\n",
    "\n",
    "La variable latente $\\beta \\in \\mathbb{R}^D$ est le vecteur des coefficients de régression.\n",
    "\n",
    "La loi de $y$ dépend donc de $\\beta$ aléatoire, mais aussi de sa variance inconnue, car nous ferons l'hypothèse que les $y_i$ suivent une loi normale, les $y_i$ étant $iid$. On a donc: \n",
    "$$\n",
    "p( y \\vert \\beta,\\tau ; x) = \\prod_{i=1}^{n} \\phi_{\\mathcal{N}(\\beta^T x_i,\\tau)}(y_i),\n",
    "$$\n",
    "où $\\phi_{\\mathcal{N}(\\beta^T x_i,\\tau)}$ est la densité d'une loi normale de moyenne $\\beta^Tx_i$ et de paramètre de précision $\\tau_i = \\frac{1}{\\sigma_i^2}, \\sigma^2$ étant la variance, $\\tau \\in \\mathbb{R}^n$.\n",
    "\n",
    "Pour faciliter les notations, nous noterons $\\phi_{\\mathcal{N}(\\mu,\\tau)}(z) = \\mathcal{N}(z \\vert \\mu,\\tau).$\n",
    "\n",
    "Le cadre de notre étude repose sur du Bayésien hiérarchique, c'est à dire que la loi a priori $\\mathcal{L}(\\beta,\\tau)$ est conditionnée par rapport à une autre variable $\\alpha$, elle même aléatoire suivant une certaine loi. On a donc :\n",
    "\n",
    "$$\n",
    "p(\\beta,\\tau \\vert \\alpha) = \\mathcal{N}(\\beta \\vert 0, \\tau diag (\\alpha)) \\Gamma(\\tau \\vert a_0, b_0),\n",
    "$$\n",
    "où $\\alpha$ est un vecteur de dimension D, aléatoire, tel que :\n",
    "$$\n",
    "p(\\alpha) = \\prod_{d=1}^D \\Gamma (\\alpha_d \\vert c_0, d_0),\n",
    "$$\n",
    "$a_0, b_0, c_0$ et $d_0$ fixés, appelés Hyper-paramètres."
   ]
  },
  {
   "cell_type": "markdown",
   "id": "d4121801",
   "metadata": {},
   "source": [
    "#### Importation des bibliothèques qui vont être utilisées "
   ]
  },
  {
   "cell_type": "code",
   "execution_count": 2,
   "id": "7f68fd20",
   "metadata": {},
   "outputs": [],
   "source": [
    "import numpy as np\n",
    "import matplotlib.pyplot as plt\n",
    "import scipy.stats as stats"
   ]
  },
  {
   "cell_type": "markdown",
   "id": "6f651d3b",
   "metadata": {},
   "source": [
    "#### Problème et Solution :"
   ]
  },
  {
   "cell_type": "markdown",
   "id": "b30300d9",
   "metadata": {},
   "source": [
    "Notre objectif est d'approcher $p(\\beta,\\tau \\vert y;x)$, densité a posteriori du modèle, car nous ne pouvons pas la calculer directement. Posons $z =(\\beta,\\tau)$.\n",
    "\n",
    "On propose une famille de densités candidates pour approcher $(z,\\alpha) \\mapsto p(z,\\alpha \\vert y;x) $. On introduit alors $\\mathcal{D} = \\{ (z,\\alpha) \\mapsto q(z,\\alpha) = q(z)q(\\alpha) \\} $, la famille de densités en question.\n",
    "\n",
    "D'après le cours les densités $q_j$ optimales sont:\n",
    "$$\n",
    "q_j(z_j) \\propto \\exp \\{ \\mathbb{E}_{-j} [ \\log p(z_j, z_{-j}, y,x) ] \\},\n",
    "$$\n",
    "où les $z_j$ sont $z$ et $\\alpha$."
   ]
  },
  {
   "cell_type": "markdown",
   "id": "eff64d9e",
   "metadata": {},
   "source": [
    "#### Construction de l'algorithme de CAVI :"
   ]
  },
  {
   "cell_type": "markdown",
   "id": "fc35de8b",
   "metadata": {},
   "source": [
    "Commençons, graçe à la formule ci-dessus, par trouver la forme optimale de $q(z) = q(\\beta, \\tau)$:\n",
    "\n",
    "\\begin{align*}\n",
    "\\log p( \\beta ,\\tau, \\alpha, x, y) &= \\log p( y \\vert \\beta, \\tau, \\alpha ) + \\log p(\\beta, \\tau, \\alpha) \\\\\n",
    "&= \\log p(y \\vert \\beta, \\tau, x ) + \\log p( \\beta,\\tau \\vert \\alpha ) + \\log p(\\alpha)\n",
    "\\end{align*}\n",
    "\n",
    "D'où :\n",
    "\n",
    "\\begin{align}\n",
    "\\log q^*(\\beta, \\tau) &= \\mathbb{E}_{\\alpha} [ \\log p(y \\vert \\beta, \\tau, x) + \\log p(\\beta, \\tau \\vert \\alpha)] + cste \\\\\n",
    "&= \\log p(y \\vert \\beta, \\tau, x) + \\mathbb{E}_{\\alpha} [\\log p(\\beta, \\tau \\vert \\alpha)] + cste \\\\\n",
    "&= \\log \\{ \\prod_i \\mathcal{N}(y_i \\vert \\beta^T x_i,\\tau) \\} + \\mathbb{E}_{\\alpha} [\\log p(\\beta, \\tau \\vert \\alpha)] + cste\n",
    "\\end{align}\n",
    "\n",
    "Calculons d'abord $\\log \\{ \\prod_i \\mathcal{N}(y_i \\vert \\beta^T x_i,\\tau) \\}$:\n",
    "\n",
    "\\begin{align}\n",
    "\\log \\{ \\prod_i \\mathcal{N}(y_i \\vert \\beta^T x_i,\\tau) \\} &= \\sum_i \\log \\frac{\\tau^{1/2}}{\\sqrt{2\\pi}} \\exp ( -\\frac{\\tau}{2} (y_i - \\beta^Tx_i)^2) \\\\\n",
    "&= \\frac{n}{2} \\log \\tau - \\frac{\\tau}{2} \\sum_i (y_i - \\beta^T x_i)^2 + cste \\\\ \n",
    "&= \\frac{n}{2} \\log \\tau - \\frac{\\tau}{2} \\sum_i y_i^2 + \\frac{\\tau}{2}2\\beta^T \\sum_i x_i y_i - \\frac{\\tau}{2} \\beta^T \\sum_i x_i x_i^T \\beta + cste. \n",
    "\\end{align}\n",
    "\n",
    "Continuons avec le terme $\\mathbb{E}_{\\alpha} [\\log p(\\beta, \\tau \\vert \\alpha)]$ :\n",
    "\n",
    "\\begin{align}\n",
    "\\mathbb{E}_{\\alpha} [\\log p(\\beta, \\tau \\vert \\alpha)] \\propto \\mathbb{E}_{\\alpha} [\\frac{D}{2} \\log \\tau - \\frac{1}{2} \\beta^T \\tau diag(\\alpha) \\beta - b_0 \\tau + (a_0 -1)\\log\\tau] \\\\\n",
    "\\propto \\frac{D}{2} \\log \\tau - \\frac{\\beta^T}{2} \\tau \\mathbb{E}_{\\alpha}[diag(\\alpha)] \\beta - b_0 \\tau + (a_0 - 1) \\log \\tau.\n",
    "\\end{align}\n",
    "\n",
    "Finalement, on obtient:\n",
    "\n",
    "\\begin{align}\n",
    "\\log q^* (\\beta, \\tau) \\propto \\log \\tau (\\frac{D}{2} + a_0 - 1 + \\frac{n}{2}) - \\frac{\\tau}{2} ( \\sum_i y_i^2 - 2 \\beta^T \\sum_ix_iy_i + \\beta^T\\sum_ix_ix_i^T\\beta^T + 2b_0 + \\beta^T \\mathbb{E}_{\\alpha} [diag(\\alpha)]\\beta ). \n",
    "\\end{align}\n",
    "\n",
    "Et en posant\n",
    "\n",
    "\\begin{align}\n",
    "V_*^{-1} &= \\mathbb{E}_{\\alpha}[diag(\\alpha)] + \\sum_ix_ix_i^T \\, , \\\\\n",
    "\\beta_* &= V_*\\sum_ix_iy_i \\,, \\\\\n",
    "a_* &= a_0 + \\frac{n}{2} \\,, \\\\\n",
    "b_* &= b_0 \\frac{1}{2} ( \\sum_iy_i^2 - \\beta_*^T V_*^{-1} \\beta_* )\n",
    "\\end{align}\n",
    "\n",
    "on arrive à nos fins :\n",
    "\n",
    "$$\n",
    "\\log q^*(\\beta, \\tau) \\propto \\log \\mathcal{N}(\\beta \\vert \\beta_*, \\tau V_*^{-1}) + \\log \\Gamma( \\tau \\vert a_*, b_* ),\n",
    "$$\n",
    "ie\n",
    "<font color=darkred>\n",
    "$$\n",
    "\\boxed{q^*(\\beta, \\tau) \\propto \\mathcal{N}(\\beta \\vert \\beta_*, \\tau V_*^{-1}) \\Gamma( \\tau \\vert a_*, b_* )}.\n",
    "$$\n",
    "</font>"
   ]
  },
  {
   "cell_type": "markdown",
   "id": "8d9b906f",
   "metadata": {},
   "source": [
    "Grâce à des calculs similaires, nous pouvons donner la forme optimale de $q(\\tau)$.\n",
    "\n",
    "On pose $$ q(\\alpha) = \\prod_{d=1}^D q(\\alpha_d). $$\n",
    "\n",
    "On trouve alors : \n",
    "\n",
    "<font color=darkred>\n",
    "$$\n",
    "\\boxed{q^*(\\alpha) \\propto \\Gamma( \\alpha_d \\vert c_*, d_{*d} )},\n",
    "$$\n",
    "</font>\n",
    "avec $c_* = c_0 + \\frac{D}{2}$  et   $d_{*d} = d_0 + \\frac{1}{2}\\mathbb{E}_{\\beta,\\tau}[\\tau \\beta_d^2]$."
   ]
  },
  {
   "cell_type": "markdown",
   "id": "00803c0d",
   "metadata": {},
   "source": [
    "Pour finir, afin de pouvoir coder l'algorithme CAVI, nous implémenterons les Espérances par :\n",
    "\\begin{align}\n",
    "\\mathbb{E}_{\\alpha}[diag(\\alpha)] &= c_* diag(1/d_*) \\,, \\\\\n",
    "\\mathbb{E}_{\\beta,\\tau}[\\tau\\beta_d^2] &= \\beta_{*d}^2a_*/b_* + [V_*]_d,\n",
    "\\end{align}\n",
    "où $[.]_d$ est la d-ième valeur sur la diagonale d'une matrice."
   ]
  },
  {
   "cell_type": "markdown",
   "id": "78b7f185",
   "metadata": {},
   "source": [
    "#### Mise à jour de $\\beta$ et $\\tau$ avec CAVI :"
   ]
  },
  {
   "cell_type": "code",
   "execution_count": 144,
   "id": "145707f9",
   "metadata": {},
   "outputs": [],
   "source": [
    "X = np.array([[1,2,3],[2,2,2],[7,1,3],[1,1,2]])\n",
    "Y = np.array([1,2,3,1])\n",
    "d = np.array([1,1,1])\n",
    "a = 2\n",
    "b = 1\n",
    "V_ =np.array([[3,2,1],[2,1,1],[1,1,1]])\n",
    "beta = np.array([2,3,2])\n",
    "c=5"
   ]
  },
  {
   "cell_type": "code",
   "execution_count": 145,
   "id": "d414a7d8",
   "metadata": {},
   "outputs": [],
   "source": [
    "def CAVI_update_V_(X,c,d):\n",
    "    \"\"\"\n",
    "    Inputs :\n",
    "    -------\n",
    "    X same as above\n",
    "    c : previous value, real\n",
    "    d : previous value, D-dimensional vector\n",
    "    \n",
    "    Outputs :\n",
    "    -------\n",
    "    V_ : new estimation of V_, real\n",
    "    \n",
    "    \"\"\"\n",
    "    \n",
    "    return c*np.diag(1/d) + X.T@X"
   ]
  },
  {
   "cell_type": "code",
   "execution_count": 146,
   "id": "18ed2c2f",
   "metadata": {},
   "outputs": [],
   "source": [
    "def CAVI_update_beta(X,Y,V_): #renvoie la mise à jour de beta\n",
    "    \"\"\"\n",
    "    Inputs :\n",
    "    -----\n",
    "    X n.D-dimensional matrix\n",
    "    Y : data, n-dimensional vector\n",
    "    V_ : (D,D)-dimensional matrix, new estimation of V_\n",
    "    \n",
    "    Outputs :\n",
    "    -----\n",
    "    beta : D-dimensional vector, new estimation of beta\n",
    "    \"\"\"\n",
    "    X = np.array(X)\n",
    "    Y = np.array(Y)\n",
    "    \n",
    "    num = X.T@Y\n",
    "    \n",
    "    return np.linalg.inv(V_)@num \n",
    "\n",
    "\n",
    "#denom = np.sum(np.diag(X@X.T)) + c*np.diag(1/d)    "
   ]
  },
  {
   "cell_type": "code",
   "execution_count": 171,
   "id": "abb329cb",
   "metadata": {},
   "outputs": [],
   "source": [
    "def CAVI_update_a_b(Y,a,b,beta,V_): #renvoit la mise à jour des paramètres pour tau\n",
    "    \n",
    "    \"\"\"\n",
    "    Inputs :\n",
    "    -----\n",
    "    X, Y, V_ same as algorithm above \n",
    "    a : current estimation of a, real\n",
    "    b : current estimation of b, real\n",
    "    beta : new estimation of beta\n",
    "    \n",
    "    Outputs :\n",
    "    ------\n",
    "    a : new estimation of a, 1-dimensional\n",
    "    b : new estimation of b, 1-dimensional vector\n",
    "    \n",
    "    \"\"\"\n",
    "    \n",
    "    a_new = a + Y.shape[0]/2\n",
    "    \n",
    "    b_new = b + 1/2*(np.sum(Y**2) - (beta.T @ V_ @ beta).ravel() )\n",
    "    \n",
    "    \n",
    "    return a_new, b_new[0]"
   ]
  },
  {
   "cell_type": "markdown",
   "id": "9c6a1166",
   "metadata": {},
   "source": [
    "#### Mise à jour des $\\alpha$ avec CAVI :"
   ]
  },
  {
   "cell_type": "code",
   "execution_count": 163,
   "id": "db96da09",
   "metadata": {},
   "outputs": [],
   "source": [
    "def CAVI_update_c_d(X, Y, c, d, beta, a, b, V_):\n",
    "    \"\"\"\n",
    "    Inputs :\n",
    "    --------\n",
    "    X,Y as above\n",
    "    c, d, a, b, V_, beta : current estimation, before the CAVI_update\n",
    "    \n",
    "    Outputs :\n",
    "    ------\n",
    "    c : new estimation of c, real\n",
    "    d : new estimation of d, D-dimensional vector\n",
    "    \n",
    "    \"\"\"\n",
    "    \n",
    "    D = beta.shape[0]\n",
    "    \n",
    "    c_new = c + D/2  # ici nous avons choisi de mettre D/2 au lieu de 1/2\n",
    "    d_new = d + 1/2*(beta**2*a/b + np.diag(np.linalg.inv(V_)))\n",
    "    \n",
    "    return c_new, d_new"
   ]
  },
  {
   "cell_type": "code",
   "execution_count": 172,
   "id": "02e5845c",
   "metadata": {},
   "outputs": [
    {
     "data": {
      "text/plain": [
       "(4.0, -26.0)"
      ]
     },
     "execution_count": 172,
     "metadata": {},
     "output_type": "execute_result"
    }
   ],
   "source": [
    "CAVI_update_a_b(Y,a,b,beta,V_)"
   ]
  },
  {
   "cell_type": "code",
   "execution_count": null,
   "id": "cd400cb2",
   "metadata": {},
   "outputs": [],
   "source": []
  },
  {
   "cell_type": "markdown",
   "id": "63e9bde6",
   "metadata": {},
   "source": [
    "Maintenant que toutes les mises à jours sont implémentées, il ne reste plus qu'à implémenter un algo comprenant toutes les mises à jours :"
   ]
  },
  {
   "cell_type": "code",
   "execution_count": 174,
   "id": "86a0c079",
   "metadata": {},
   "outputs": [],
   "source": [
    "def CAVI_complet(X, Y, a0, b0, c0, d0, beta, V_, max_iter = 500, eps = 1e-8):\n",
    "    \"\"\"\n",
    "    Inputs :\n",
    "    -------\n",
    "    a, b, c, d : Hyper-parameters of our model\n",
    "    beta : D-dimensional vector, initial value\n",
    "    V_ : (D,D)-dimentional matrix, initial estimation value\n",
    "    X : (n,D)-dimentional matrix,\n",
    "    Y : data, n-dimensional vector\n",
    "    \n",
    "    Outputs:\n",
    "    -------\n",
    "    ELBO, a, b, c, d, beta, V_ : all the value for each iteration\n",
    "    \n",
    "    \"\"\"\n",
    "    \n",
    "    iter = 0\n",
    "    \n",
    "    n = Y.shape[0]\n",
    "    D = beta.shape[0]\n",
    "    \n",
    "    A, B, C, D, Beta = [], [], [], [], []\n",
    "    \n",
    "    V_ = CAVI_update_V_(X, c0, d0)\n",
    "    \n",
    "    beta = CAVI_update_beta(X, Y, V_)\n",
    "    Beta.append(beta)\n",
    "    \n",
    "    a, b = CAVI_update_a_b(Y, a0, b0, beta, V_)\n",
    "    A.append(a)\n",
    "    B.append(b)\n",
    "    \n",
    "    c, d = CAVI_update_c_d(X, Y, c0, d0, beta, a0, b0, V_)\n",
    "    C.append(c)\n",
    "    D.append(d)\n",
    "\n",
    "    while iter <= max_iter or ELBO > eps :\n",
    "        \n",
    "        V_ = CAVI_update_V_(X, c, d)\n",
    "    \n",
    "        beta = CAVI_update_beta(X, Y, V_)\n",
    "        Beta.append(beta)\n",
    "    \n",
    "        a, b = CAVI_update_a_b(Y, a, b, beta, V_)\n",
    "        A.append(a)\n",
    "        B.append(b)\n",
    "    \n",
    "        c, d = CAVI_update_c_d(X, Y, c, d, beta, a, b, V_)\n",
    "        C.append(c)\n",
    "        D.append(d)\n",
    "\n",
    "        iter += 1\n",
    "    \n",
    "    return A, B, C, D, "
   ]
  },
  {
   "cell_type": "markdown",
   "id": "cedd66fd",
   "metadata": {},
   "source": [
    "Pour la ELBO, après beaucoup de questionnement sur la manière de caluculer $\\mathbb{E}[\\log X]$, $X$ suit une $\\Gamma(a,b)$ nous avons trouvé une alternative, et allons utiliser la fonction di-gamma, définie comme suit :\n",
    "$$\n",
    "\\psi(z) = \\frac{\\Gamma(z)^{'}}{\\Gamma(z)}\n",
    "$$\n",
    "\n"
   ]
  },
  {
   "cell_type": "code",
   "execution_count": 180,
   "id": "808b78a9",
   "metadata": {},
   "outputs": [],
   "source": [
    "from scipy.special import psi"
   ]
  },
  {
   "cell_type": "code",
   "execution_count": null,
   "id": "eea11bf7",
   "metadata": {},
   "outputs": [],
   "source": []
  }
 ],
 "metadata": {
  "kernelspec": {
   "display_name": "Python 3",
   "language": "python",
   "name": "python3"
  },
  "language_info": {
   "codemirror_mode": {
    "name": "ipython",
    "version": 3
   },
   "file_extension": ".py",
   "mimetype": "text/x-python",
   "name": "python",
   "nbconvert_exporter": "python",
   "pygments_lexer": "ipython3",
   "version": "3.8.8"
  }
 },
 "nbformat": 4,
 "nbformat_minor": 5
}
